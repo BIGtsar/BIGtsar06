{
 "cells": [
  {
   "cell_type": "code",
   "execution_count": 10,
   "metadata": {},
   "outputs": [
    {
     "name": "stdout",
     "output_type": "stream",
     "text": [
      "42.8\n"
     ]
    }
   ],
   "source": [
    "C = int(input())\n",
    "F = (C * 9/5) + 32\n",
    "print(F)"
   ]
  },
  {
   "cell_type": "code",
   "execution_count": 12,
   "metadata": {},
   "outputs": [
    {
     "name": "stdout",
     "output_type": "stream",
     "text": [
      "r r\n"
     ]
    }
   ],
   "source": [
    "F = input(\"Введите ваше имя: \")\n",
    "C = input(\"Введите вашу фаимлию: \")\n",
    "G = F + \" \" + C\n",
    "print(G)"
   ]
  },
  {
   "cell_type": "code",
   "execution_count": 13,
   "metadata": {},
   "outputs": [
    {
     "name": "stdout",
     "output_type": "stream",
     "text": [
      "20\n"
     ]
    }
   ],
   "source": [
    "A = int(input())\n",
    "B = int(input())\n",
    "C = A * B\n",
    "print(C)"
   ]
  },
  {
   "cell_type": "code",
   "execution_count": 14,
   "metadata": {},
   "outputs": [
    {
     "name": "stdout",
     "output_type": "stream",
     "text": [
      "Количество букв: 6\n"
     ]
    }
   ],
   "source": [
    "W = input()\n",
    "print(f\"Количество букв: {len(W)}\")"
   ]
  },
  {
   "cell_type": "code",
   "execution_count": 20,
   "metadata": {},
   "outputs": [
    {
     "name": "stdout",
     "output_type": "stream",
     "text": [
      "Четное\n"
     ]
    }
   ],
   "source": [
    "N = int(input())\n",
    "print(\"Четное\" if N % 2 == 0 else \"Нечетное\")"
   ]
  },
  {
   "cell_type": "code",
   "execution_count": 21,
   "metadata": {},
   "outputs": [
    {
     "name": "stdout",
     "output_type": "stream",
     "text": [
      "rtrtrtrtrtrtrtrtrtrtrtrtrtrtrt\n"
     ]
    }
   ],
   "source": [
    "word = input()\n",
    "n = int(input())\n",
    "print(word * n)"
   ]
  },
  {
   "cell_type": "code",
   "execution_count": 23,
   "metadata": {},
   "outputs": [
    {
     "name": "stdout",
     "output_type": "stream",
     "text": [
      "200 мин = 3 час 20 мин\n"
     ]
    }
   ],
   "source": [
    "minutes = int(input())\n",
    "hours = minutes // 60\n",
    "f = minutes % 60\n",
    "print(f\"{minutes} мин = {hours} час {f} мин\")"
   ]
  },
  {
   "cell_type": "code",
   "execution_count": null,
   "metadata": {},
   "outputs": [
    {
     "name": "stdout",
     "output_type": "stream",
     "text": [
      "значение:6.48074069840786\n",
      "Нечетное\n"
     ]
    }
   ],
   "source": [
    "import math\n",
    "a = int(input())\n",
    "b = int(input())\n",
    "c = int(input())\n",
    "s = (a + b + c)\n",
    "P = math.sqrt(s*(s-a)+(s-b)*(s-c))\n",
    "print(f\"значение:{P}\")\n",
    "if P%2 == 0:\n",
    "    print(\"четное\")\n",
    "else:\n",
    "    print(\"Нечетное\") "
   ]
  },
  {
   "cell_type": "code",
   "execution_count": 9,
   "metadata": {},
   "outputs": [
    {
     "name": "stdout",
     "output_type": "stream",
     "text": [
      "Первые 3 символа: 'рос' \n",
      "Последние 3 символа: 'сси' \n"
     ]
    }
   ],
   "source": [
    "s = input()\n",
    "print(f\"Первые 3 символа: '{s[0:3]}' \")\n",
    "print(f\"Последние 3 символа: '{s[-4:-1]}' \")"
   ]
  },
  {
   "cell_type": "code",
   "execution_count": 10,
   "metadata": {},
   "outputs": [
    {
     "name": "stdout",
     "output_type": "stream",
     "text": [
      "тевирп\n"
     ]
    }
   ],
   "source": [
    "s = input()\n",
    "print(s[::-1])"
   ]
  },
  {
   "cell_type": "code",
   "execution_count": 12,
   "metadata": {},
   "outputs": [
    {
     "name": "stdout",
     "output_type": "stream",
     "text": [
      "Да, подстрока есть\n"
     ]
    }
   ],
   "source": [
    "s = input()\n",
    "d = input()\n",
    "if d in s:\n",
    "    print(\"Да, подстрока есть\")\n",
    "else:\n",
    "    print(\"Нет такой подстроки\")    "
   ]
  },
  {
   "cell_type": "code",
   "execution_count": 13,
   "metadata": {},
   "outputs": [
    {
     "name": "stdout",
     "output_type": "stream",
     "text": [
      "Я люблю Javascript, Javascript — лучший!\n"
     ]
    }
   ],
   "source": [
    "s = \"Я люблю Python, Python — лучший!\"\n",
    "new_s = s.replace(\"Python\", \"Javascript\")\n",
    "print(new_s) \n"
   ]
  },
  {
   "cell_type": "code",
   "execution_count": 14,
   "metadata": {},
   "outputs": [
    {
     "name": "stdout",
     "output_type": "stream",
     "text": [
      "apple\n",
      "banana\n",
      "orange\n",
      "grape\n"
     ]
    }
   ],
   "source": [
    "fruits = \"apple,banana,orange,grape\"\n",
    "for fruit in fruits.split(','):\n",
    "    print(fruit)"
   ]
  },
  {
   "cell_type": "code",
   "execution_count": 15,
   "metadata": {},
   "outputs": [
    {
     "name": "stdout",
     "output_type": "stream",
     "text": [
      "Символ 'в' встречается 1 раз\n"
     ]
    }
   ],
   "source": [
    "s = input(\"Введите строку: \")\n",
    "char = input(\"Введите символ: \")\n",
    "count = s.count(char)\n",
    "print(f\"Символ '{char}' встречается {count} раз\")"
   ]
  },
  {
   "cell_type": "code",
   "execution_count": 16,
   "metadata": {},
   "outputs": [
    {
     "name": "stdout",
     "output_type": "stream",
     "text": [
      "Hello, world!\n"
     ]
    }
   ],
   "source": [
    "s = \"   Hello,   world!   \"\n",
    "cleaned = ' '.join(s.split())\n",
    "print(cleaned)"
   ]
  },
  {
   "cell_type": "code",
   "execution_count": 17,
   "metadata": {},
   "outputs": [
    {
     "name": "stdout",
     "output_type": "stream",
     "text": [
      "123456\n"
     ]
    }
   ],
   "source": [
    "s = \"abc123def45gh6\"\n",
    "digits = ''.join(filter(str.isdigit, s))\n",
    "print(int(digits))"
   ]
  },
  {
   "cell_type": "code",
   "execution_count": 18,
   "metadata": {},
   "outputs": [
    {
     "name": "stdout",
     "output_type": "stream",
     "text": [
      "+7 (123) 456-78-90\n"
     ]
    }
   ],
   "source": [
    "phone = \"+71234567890\"\n",
    "formatted = f\"{phone[:2]} ({phone[2:5]}) {phone[5:8]}-{phone[8:10]}-{phone[10:]}\"\n",
    "print(formatted)"
   ]
  },
  {
   "cell_type": "code",
   "execution_count": 19,
   "metadata": {},
   "outputs": [
    {
     "name": "stdout",
     "output_type": "stream",
     "text": [
      "рсйгжу\n"
     ]
    }
   ],
   "source": [
    "text = input(\"Введите текст: \")\n",
    "shifted = ''.join([chr(ord(c) + 1) if c.isalpha() else c for c in text])\n",
    "print(shifted)"
   ]
  },
  {
   "cell_type": "code",
   "execution_count": 20,
   "metadata": {},
   "outputs": [
    {
     "name": "stdout",
     "output_type": "stream",
     "text": [
      "13 7 1000\n"
     ]
    }
   ],
   "source": [
    "a = 10\n",
    "b = 3\n",
    "c = a + b\n",
    "d = a - b\n",
    "e = a ** b\n",
    "print(c,d,e)"
   ]
  }
 ],
 "metadata": {
  "kernelspec": {
   "display_name": "first_env",
   "language": "python",
   "name": "python3"
  },
  "language_info": {
   "codemirror_mode": {
    "name": "ipython",
    "version": 3
   },
   "file_extension": ".py",
   "mimetype": "text/x-python",
   "name": "python",
   "nbconvert_exporter": "python",
   "pygments_lexer": "ipython3",
   "version": "3.10.17"
  }
 },
 "nbformat": 4,
 "nbformat_minor": 2
}
