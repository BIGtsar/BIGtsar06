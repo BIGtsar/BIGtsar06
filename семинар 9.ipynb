{
 "cells": [
  {
   "cell_type": "code",
   "execution_count": 1,
   "metadata": {},
   "outputs": [
    {
     "name": "stdout",
     "output_type": "stream",
     "text": [
      "П\n",
      "р\n",
      "и\n",
      "м\n",
      "е\n",
      "р\n",
      " \n",
      "с\n",
      "т\n",
      "р\n",
      "о\n",
      "к\n",
      "и\n"
     ]
    }
   ],
   "source": [
    "s = \"Пример строки\"\n",
    "for char in s:\n",
    "    print(char)"
   ]
  },
  {
   "cell_type": "code",
   "execution_count": 2,
   "metadata": {},
   "outputs": [
    {
     "name": "stdout",
     "output_type": "stream",
     "text": [
      "abcde\n"
     ]
    }
   ],
   "source": [
    "s = 'abcdeabc'\n",
    "unique_chars = ''.join(sorted(set(s), key=s.index))\n",
    "print(unique_chars)"
   ]
  },
  {
   "cell_type": "code",
   "execution_count": 10,
   "metadata": {},
   "outputs": [
    {
     "name": "stdout",
     "output_type": "stream",
     "text": [
      "Общие символы: {'d', 'f', 'e', 'c'}\n",
      "Только в первой: {'a', 'b'}\n",
      "Только во второй: {'h', 'g'}\n",
      "Отсутствующие в строках: {'Q', 'w', 'O', 'l', 'G', 'o', 'I', 'B', 'E', 'v', 'F', 'X', 'W', 'U', 'z', 'u', 'C', 'n', 's', 'S', 'A', 'V', 't', 'x', 'K', 'T', 'y', 'k', 'N', 'R', 'p', 'Z', 'r', 'M', 'L', 'H', 'q', 'D', 'J', 'P', 'Y', 'j', 'i', 'm'}\n"
     ]
    }
   ],
   "source": [
    "s1 = \"abcdef\"\n",
    "s2 = \"cdefgh\"\n",
    "\n",
    "# Общие уникальные символы\n",
    "common = set(s1) & set(s2)\n",
    "print(\"Общие символы:\", common)\n",
    "\n",
    "# Символы только в первой строке\n",
    "only_in_s1 = set(s1) - set(s2)\n",
    "print(\"Только в первой:\", only_in_s1)\n",
    "\n",
    "# Символы только во второй строке\n",
    "only_in_s2 = set(s2) - set(s1)\n",
    "print(\"Только во второй:\", only_in_s2)\n",
    "\n",
    "# Символы алфавита, которых нет в строках\n",
    "from string import ascii_letters\n",
    "alphabet = set(ascii_letters)\n",
    "missing = alphabet - (set(s1) | set(s2))\n",
    "print(\"Отсутствующие в строках:\", missing)"
   ]
  },
  {
   "cell_type": "code",
   "execution_count": 14,
   "metadata": {},
   "outputs": [
    {
     "name": "stdout",
     "output_type": "stream",
     "text": [
      "Итоговый список: [-5, -5, 2]\n"
     ]
    }
   ],
   "source": [
    "numbers = []\n",
    "while True:\n",
    "    num = int(input(\"Введите число: \"))\n",
    "    if num == 0:\n",
    "        break\n",
    "    numbers.append(num)\n",
    "\n",
    "if (n < 0 for n in numbers):\n",
    "    numbers = [-n for n in numbers]\n",
    "\n",
    "print(\"Итоговый список:\", numbers)"
   ]
  },
  {
   "cell_type": "code",
   "execution_count": 16,
   "metadata": {},
   "outputs": [
    {
     "name": "stdout",
     "output_type": "stream",
     "text": [
      "Результат: 12/9 = 1.3333333333333333\n"
     ]
    }
   ],
   "source": [
    "lst = [1, 2, 3, 4, 5, 6]\n",
    "sum_rte = sum(lst[1::2])  # Четные позиции (индексы 1, 3, 5...)\n",
    "sum_odd = sum(lst[::2])    # Нечетные позиции (индексы 0, 2, 4...)\n",
    "result = sum_rte / sum_odd\n",
    "print(f\"Результат: {sum_rte}/{sum_odd} = {result}\")"
   ]
  },
  {
   "cell_type": "code",
   "execution_count": 9,
   "metadata": {},
   "outputs": [
    {
     "name": "stdout",
     "output_type": "stream",
     "text": [
      "['http://example.com', 'http://python.ru']\n"
     ]
    }
   ],
   "source": [
    "urls = [\"http://example.com\", \"https://test.org\", \"http://python.ru\", \"ftp://server.com\"]\n",
    "filtered = [url for url in urls if url.startswith(\"http://\")]\n",
    "print(filtered)"
   ]
  },
  {
   "cell_type": "code",
   "execution_count": 3,
   "metadata": {},
   "outputs": [
    {
     "name": "stdout",
     "output_type": "stream",
     "text": [
      "Стоимость слова 'приветqwe': 7 очков\n"
     ]
    }
   ],
   "source": [
    "def calculate_scrabble_score(word):\n",
    "    english_scores = {\n",
    "        'A': 1, 'E': 1, 'I': 1, 'O': 1, 'U': 1, 'L': 1, 'N': 1, 'S': 1, 'T': 1, 'R': 1,\n",
    "        'D': 2, 'G': 2,\n",
    "        'B': 3, 'C': 3, 'M': 3, 'P': 3,\n",
    "        'F': 4, 'H': 4, 'V': 4, 'W': 4, 'Y': 4,\n",
    "        'K': 5,\n",
    "        'J': 8, 'X': 8,\n",
    "        'Q': 10, 'Z': 10\n",
    "    }\n",
    "    \n",
    "    russian_scores = {\n",
    "        'А': 1, 'В': 1, 'Е': 1, 'И': 1, 'Н': 1, 'О': 1, 'Р': 1, 'С': 1, 'Т': 1,\n",
    "        'Д': 2, 'К': 2, 'Л': 2, 'М': 2, 'П': 2, 'У': 2,\n",
    "        'Б': 3, 'Г': 3, 'Ё': 3, 'Ь': 3, 'Я': 3,\n",
    "        'Й': 4, 'Ы': 4,\n",
    "        'Ж': 5, 'З': 5, 'Х': 5, 'Ц': 5, 'Ч': 5,\n",
    "        'Ш': 8, 'Э': 8, 'Ю': 8,\n",
    "        'Ф': 10, 'Щ': 10, 'Ъ': 10\n",
    "    }\n",
    "    \n",
    "    first_char = word[0].upper()\n",
    "    if first_char in english_scores:\n",
    "        scores = english_scores\n",
    "    elif first_char in russian_scores:\n",
    "        scores = russian_scores\n",
    "    else:\n",
    "        return 0  # если символ не принадлежит ни одному алфавиту\n",
    "    \n",
    "    # Вычисляем сумму очков\n",
    "    total_score = 0\n",
    "    for char in word.upper():\n",
    "        total_score += scores.get(char, 0)  # если символа нет в словаре, добавляем 0\n",
    "    \n",
    "    return total_score\n",
    "\n",
    "# Получаем слово от пользователя\n",
    "user_word = input(\"Введите слово: \")\n",
    "score = calculate_scrabble_score(user_word)\n",
    "print(f\"Стоимость слова '{user_word}': {score} очков\")"
   ]
  },
  {
   "cell_type": "code",
   "execution_count": 1,
   "metadata": {},
   "outputs": [
    {
     "name": "stdout",
     "output_type": "stream",
     "text": [
      "Игорь Бероев: Муся, 7; Изольда, 2\n",
      "Анна Смирнова: Барсик, 5; Мурзик, 3\n",
      "Ольга Петрова: Васька, 4\n"
     ]
    }
   ],
   "source": [
    "# Исходные данные\n",
    "cats_data = [\n",
    "    (\"Муся\", 7, \"Игорь\", \"Бероев\"),\n",
    "    (\"Изольда\", 2, \"Игорь\", \"Бероев\"),\n",
    "    (\"Барсик\", 5, \"Анна\", \"Смирнова\"),\n",
    "    (\"Мурзик\", 3, \"Анна\", \"Смирнова\"),\n",
    "    (\"Васька\", 4, \"Ольга\", \"Петрова\")\n",
    "]\n",
    "\n",
    "# Создаем словарь для группировки по владельцам\n",
    "owners = {}\n",
    "\n",
    "# Заполняем словарь\n",
    "for name, age, first_name, last_name in cats_data:\n",
    "    owner_key = f\"{first_name} {last_name}\"\n",
    "    if owner_key not in owners:\n",
    "        owners[owner_key] = []\n",
    "    owners[owner_key].append(f\"{name}, {age}\")\n",
    "\n",
    "# Форматируем вывод\n",
    "for owner, cats in owners.items():\n",
    "    print(f\"{owner}: {'; '.join(cats)}\")"
   ]
  },
  {
   "cell_type": "code",
   "execution_count": 2,
   "metadata": {},
   "outputs": [
    {
     "name": "stdout",
     "output_type": "stream",
     "text": [
      "Исходный массив: [57, 50, 59, 59, 48, 56, 67, 40, 43, 58]\n",
      "Отсортированный массив: [40, 43, 48, 50, 56, 57, 58, 59, 59, 67]\n",
      "Размер массива: 10, Время сортировки: 0.00001 сек\n",
      "Размер массива: 100, Время сортировки: 0.00034 сек\n",
      "Размер массива: 1000, Время сортировки: 0.04107 сек\n",
      "Размер массива: 10000, Время сортировки: 4.38404 сек\n",
      "Размер массива: 100000, Время сортировки: 450.51343 сек\n",
      "\n",
      "Результаты замеров времени:\n",
      "10 элементов: 0.00001 сек\n",
      "100 элементов: 0.00034 сек\n",
      "1000 элементов: 0.04107 сек\n",
      "10000 элементов: 4.38404 сек\n",
      "100000 элементов: 450.51343 сек\n"
     ]
    }
   ],
   "source": [
    "import random\n",
    "\n",
    "def bubble_sort(arr):\n",
    "    n = len(arr)\n",
    "    for i in range(n - 1):          # Проходим по массиву n-1 раз\n",
    "        for j in range(n - i - 1):  # Сравниваем пары элементов\n",
    "            if arr[j] > arr[j + 1]: # Если текущий элемент больше следующего\n",
    "                arr[j], arr[j + 1] = arr[j + 1], arr[j]  # Меняем их местами\n",
    "    return arr\n",
    "\n",
    "# Генерация случайного массива из 10 чисел (от 0 до 100)\n",
    "N = 10\n",
    "random_array = [random.randint(0, 100) for _ in range(N)]\n",
    "print(\"Исходный массив:\", random_array)\n",
    "\n",
    "sorted_array = bubble_sort(random_array.copy())  # Сортируем копию, чтобы не изменять исходный массив\n",
    "print(\"Отсортированный массив:\", sorted_array)\n",
    "\n",
    "\n",
    "import time\n",
    "\n",
    "def measure_bubble_sort_time(n):\n",
    "    arr = [random.randint(0, 10000) for _ in range(n)]  # Генерация массива\n",
    "    start_time = time.time()  # Засекаем время\n",
    "    bubble_sort(arr.copy())   # Сортируем копию\n",
    "    return time.time() - start_time  # Возвращаем время выполнения\n",
    "\n",
    "sizes = [10, 100, 1000, 10000, 100000]  # Размеры массивов\n",
    "results = {}\n",
    "\n",
    "for size in sizes:\n",
    "    duration = measure_bubble_sort_time(size)\n",
    "    results[size] = duration\n",
    "    print(f\"Размер массива: {size}, Время сортировки: {duration:.5f} сек\")\n",
    "\n",
    "# Вывод результатов\n",
    "print(\"\\nРезультаты замеров времени:\")\n",
    "for size, time_taken in results.items():\n",
    "    print(f\"{size} элементов: {time_taken:.5f} сек\")"
   ]
  },
  {
   "cell_type": "code",
   "execution_count": null,
   "metadata": {},
   "outputs": [
    {
     "name": "stdout",
     "output_type": "stream",
     "text": [
      "Исходный массив: [67, 77, 32, 50, 53, 16, 5, 97, 19, 16]\n",
      "Отсортированный массив: [5, 16, 16, 19, 32, 50, 53, 67, 77, 97]\n"
     ]
    }
   ],
   "source": [
    "import random\n",
    "\n",
    "def bubble_sort(arr):\n",
    "    n = len(arr)\n",
    "    for i in range(n - 1):          # Проходим по массиву n-1 раз\n",
    "        for j in range(n - i - 1):  # Сравниваем пары элементов\n",
    "            if arr[j] > arr[j + 1]: # Если текущий элемент больше следующего\n",
    "                arr[j], arr[j + 1] = arr[j + 1], arr[j]  # Меняем их местами\n",
    "    return arr\n",
    "\n",
    "# Генерация случайного массива из 10 чисел (от 0 до 100)\n",
    "N = 10\n",
    "random_array = [random.randint(0, 100) for _ in range(N)]\n",
    "print(\"Исходный массив:\", random_array)\n",
    "\n",
    "sorted_array = bubble_sort(random_array.copy())  # Сортируем копию, чтобы не изменять исходный массив\n",
    "print(\"Отсортированный массив:\", sorted_array)\n"
   ]
  }
 ],
 "metadata": {
  "kernelspec": {
   "display_name": "first_env",
   "language": "python",
   "name": "python3"
  },
  "language_info": {
   "codemirror_mode": {
    "name": "ipython",
    "version": 3
   },
   "file_extension": ".py",
   "mimetype": "text/x-python",
   "name": "python",
   "nbconvert_exporter": "python",
   "pygments_lexer": "ipython3",
   "version": "3.10.17"
  }
 },
 "nbformat": 4,
 "nbformat_minor": 2
}
