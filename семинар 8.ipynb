{
 "cells": [
  {
   "cell_type": "code",
   "execution_count": 2,
   "metadata": {},
   "outputs": [
    {
     "name": "stdout",
     "output_type": "stream",
     "text": [
      "число равно нулю\n"
     ]
    }
   ],
   "source": [
    "number = float(input())\n",
    "if number > 0:\n",
    "    print(\"число положительное\")\n",
    "elif number < 0:\n",
    "    print(\"число отрицательное\")\n",
    "else:\n",
    "    print(\"число равно нулю\")        "
   ]
  },
  {
   "cell_type": "code",
   "execution_count": 4,
   "metadata": {},
   "outputs": [
    {
     "name": "stdout",
     "output_type": "stream",
     "text": [
      "Число положительное\n",
      "Вы ввели 0. Программа завершена.\n"
     ]
    }
   ],
   "source": [
    "while True:\n",
    "    num = float(input(\"Введите число: \"))\n",
    "    if num == 0:\n",
    "        print(\"Вы ввели 0. Программа завершена.\")\n",
    "        break\n",
    "    elif num > 0:\n",
    "        print(\"Число положительное\")\n",
    "    else:\n",
    "        print(\"Число отрицательное\")"
   ]
  },
  {
   "cell_type": "code",
   "execution_count": 3,
   "metadata": {},
   "outputs": [
    {
     "name": "stdout",
     "output_type": "stream",
     "text": [
      "0.3333333333333333\n",
      "4\n",
      "1.0\n",
      "8\n",
      "1.6666666666666667\n",
      "12\n",
      "2.3333333333333335\n",
      "16\n",
      "3.0\n",
      "20\n",
      "3.6666666666666665\n",
      "24\n",
      "4.333333333333333\n",
      "28\n",
      "5.0\n",
      "32\n",
      "5.666666666666667\n",
      "36\n",
      "6.333333333333333\n",
      "40\n",
      "7.0\n",
      "44\n",
      "7.666666666666667\n",
      "48\n",
      "8.333333333333334\n",
      "52\n",
      "9.0\n",
      "56\n",
      "9.666666666666666\n",
      "60\n",
      "10.333333333333334\n",
      "64\n",
      "11.0\n",
      "68\n",
      "11.666666666666666\n",
      "72\n",
      "12.333333333333334\n",
      "76\n",
      "13.0\n",
      "80\n",
      "13.666666666666666\n",
      "84\n",
      "14.333333333333334\n",
      "88\n",
      "15.0\n",
      "92\n",
      "15.666666666666666\n",
      "96\n",
      "16.333333333333332\n",
      "100\n"
     ]
    }
   ],
   "source": [
    "for num in range(1, 51):\n",
    "    if num % 2 == 0:     \n",
    "        print(num * 2)\n",
    "    else:             \n",
    "        print(num / 3)"
   ]
  }
 ],
 "metadata": {
  "kernelspec": {
   "display_name": "first_env",
   "language": "python",
   "name": "python3"
  },
  "language_info": {
   "codemirror_mode": {
    "name": "ipython",
    "version": 3
   },
   "file_extension": ".py",
   "mimetype": "text/x-python",
   "name": "python",
   "nbconvert_exporter": "python",
   "pygments_lexer": "ipython3",
   "version": "3.10.17"
  }
 },
 "nbformat": 4,
 "nbformat_minor": 2
}
